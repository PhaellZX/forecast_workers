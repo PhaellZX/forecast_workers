{
 "cells": [
  {
   "cell_type": "markdown",
   "id": "f4b5f464",
   "metadata": {},
   "source": [
    "# 🛍️ Sales Forecast Report - Fashion Store\n",
    "\n",
    "This notebook reads fashion sales data, performs a forecast using Facebook Prophet,\n",
    "and generates a professional PDF report with charts, product analysis and insights."
   ]
  },
  {
   "cell_type": "code",
   "execution_count": 1,
   "id": "10af19ce",
   "metadata": {},
   "outputs": [
    {
     "name": "stdout",
     "output_type": "stream",
     "text": [
      "Requirement already satisfied: pandas in d:\\user\\desktop\\projects\\venv\\lib\\site-packages (2.3.1)\n",
      "Requirement already satisfied: prophet in d:\\user\\desktop\\projects\\venv\\lib\\site-packages (1.1.7)\n",
      "Requirement already satisfied: plotly in d:\\user\\desktop\\projects\\venv\\lib\\site-packages (6.2.0)\n",
      "Requirement already satisfied: fpdf in d:\\user\\desktop\\projects\\venv\\lib\\site-packages (1.7.2)\n",
      "Requirement already satisfied: numpy>=1.26.0 in d:\\user\\desktop\\projects\\venv\\lib\\site-packages (from pandas) (2.3.2)\n",
      "Requirement already satisfied: python-dateutil>=2.8.2 in d:\\user\\desktop\\projects\\venv\\lib\\site-packages (from pandas) (2.9.0.post0)\n",
      "Requirement already satisfied: pytz>=2020.1 in d:\\user\\desktop\\projects\\venv\\lib\\site-packages (from pandas) (2025.2)\n",
      "Requirement already satisfied: tzdata>=2022.7 in d:\\user\\desktop\\projects\\venv\\lib\\site-packages (from pandas) (2025.2)\n",
      "Requirement already satisfied: cmdstanpy>=1.0.4 in d:\\user\\desktop\\projects\\venv\\lib\\site-packages (from prophet) (1.2.5)\n",
      "Requirement already satisfied: matplotlib>=2.0.0 in d:\\user\\desktop\\projects\\venv\\lib\\site-packages (from prophet) (3.10.3)\n",
      "Requirement already satisfied: holidays<1,>=0.25 in d:\\user\\desktop\\projects\\venv\\lib\\site-packages (from prophet) (0.77)\n",
      "Requirement already satisfied: tqdm>=4.36.1 in d:\\user\\desktop\\projects\\venv\\lib\\site-packages (from prophet) (4.67.1)\n",
      "Requirement already satisfied: importlib_resources in d:\\user\\desktop\\projects\\venv\\lib\\site-packages (from prophet) (6.5.2)\n",
      "Requirement already satisfied: narwhals>=1.15.1 in d:\\user\\desktop\\projects\\venv\\lib\\site-packages (from plotly) (1.48.1)\n",
      "Requirement already satisfied: packaging in d:\\user\\desktop\\projects\\venv\\lib\\site-packages (from plotly) (25.0)\n",
      "Requirement already satisfied: stanio<2.0.0,>=0.4.0 in d:\\user\\desktop\\projects\\venv\\lib\\site-packages (from cmdstanpy>=1.0.4->prophet) (0.5.1)\n",
      "Requirement already satisfied: contourpy>=1.0.1 in d:\\user\\desktop\\projects\\venv\\lib\\site-packages (from matplotlib>=2.0.0->prophet) (1.3.2)\n",
      "Requirement already satisfied: cycler>=0.10 in d:\\user\\desktop\\projects\\venv\\lib\\site-packages (from matplotlib>=2.0.0->prophet) (0.12.1)\n",
      "Requirement already satisfied: fonttools>=4.22.0 in d:\\user\\desktop\\projects\\venv\\lib\\site-packages (from matplotlib>=2.0.0->prophet) (4.59.0)\n",
      "Requirement already satisfied: kiwisolver>=1.3.1 in d:\\user\\desktop\\projects\\venv\\lib\\site-packages (from matplotlib>=2.0.0->prophet) (1.4.8)\n",
      "Requirement already satisfied: pillow>=8 in d:\\user\\desktop\\projects\\venv\\lib\\site-packages (from matplotlib>=2.0.0->prophet) (11.3.0)\n",
      "Requirement already satisfied: pyparsing>=2.3.1 in d:\\user\\desktop\\projects\\venv\\lib\\site-packages (from matplotlib>=2.0.0->prophet) (3.2.3)\n",
      "Requirement already satisfied: six>=1.5 in d:\\user\\desktop\\projects\\venv\\lib\\site-packages (from python-dateutil>=2.8.2->pandas) (1.17.0)\n",
      "Requirement already satisfied: colorama in d:\\user\\desktop\\projects\\venv\\lib\\site-packages (from tqdm>=4.36.1->prophet) (0.4.6)\n",
      "Note: you may need to restart the kernel to use updated packages.\n"
     ]
    },
    {
     "name": "stderr",
     "output_type": "stream",
     "text": [
      "\n",
      "[notice] A new release of pip is available: 24.3.1 -> 25.2\n",
      "[notice] To update, run: python.exe -m pip install --upgrade pip\n"
     ]
    }
   ],
   "source": [
    "%pip install pandas prophet plotly fpdf"
   ]
  },
  {
   "cell_type": "code",
   "execution_count": 2,
   "id": "6f07523c",
   "metadata": {},
   "outputs": [
    {
     "name": "stdout",
     "output_type": "stream",
     "text": [
      "Requirement already satisfied: kaleido in d:\\user\\desktop\\projects\\venv\\lib\\site-packages (1.0.0)\n",
      "Requirement already satisfied: choreographer>=1.0.5 in d:\\user\\desktop\\projects\\venv\\lib\\site-packages (from kaleido) (1.0.9)\n",
      "Requirement already satisfied: logistro>=1.0.8 in d:\\user\\desktop\\projects\\venv\\lib\\site-packages (from kaleido) (1.1.0)\n",
      "Requirement already satisfied: orjson>=3.10.15 in d:\\user\\desktop\\projects\\venv\\lib\\site-packages (from kaleido) (3.11.0)\n",
      "Requirement already satisfied: packaging in d:\\user\\desktop\\projects\\venv\\lib\\site-packages (from kaleido) (25.0)\n",
      "Requirement already satisfied: simplejson>=3.19.3 in d:\\user\\desktop\\projects\\venv\\lib\\site-packages (from choreographer>=1.0.5->kaleido) (3.20.1)\n",
      "Note: you may need to restart the kernel to use updated packages.\n"
     ]
    },
    {
     "name": "stderr",
     "output_type": "stream",
     "text": [
      "\n",
      "[notice] A new release of pip is available: 24.3.1 -> 25.2\n",
      "[notice] To update, run: python.exe -m pip install --upgrade pip\n"
     ]
    }
   ],
   "source": [
    "%pip install kaleido"
   ]
  },
  {
   "cell_type": "code",
   "execution_count": 3,
   "id": "ff7bd888",
   "metadata": {},
   "outputs": [
    {
     "name": "stderr",
     "output_type": "stream",
     "text": [
      "d:\\User\\Desktop\\projects\\venv\\Lib\\site-packages\\tqdm\\auto.py:21: TqdmWarning: IProgress not found. Please update jupyter and ipywidgets. See https://ipywidgets.readthedocs.io/en/stable/user_install.html\n",
      "  from .autonotebook import tqdm as notebook_tqdm\n"
     ]
    }
   ],
   "source": [
    "# Required libraries\n",
    "import pandas as pd\n",
    "from prophet import Prophet\n",
    "import plotly.graph_objects as go\n",
    "import plotly.io as pio\n",
    "from fpdf import FPDF\n",
    "from datetime import datetime\n",
    "\n",
    "# Load dataset\n",
    "df = pd.read_csv(\"fashion_sales_data_super_boosted.csv\")\n",
    "df['Date'] = pd.to_datetime(df['Date'])\n",
    "\n",
    "# Aggregate revenue per day\n",
    "daily_sales = df.groupby(\"Date\")[\"Total Revenue\"].sum().reset_index()\n",
    "daily_sales.columns = [\"ds\", \"y\"]"
   ]
  },
  {
   "cell_type": "code",
   "execution_count": 4,
   "id": "3eb70104",
   "metadata": {},
   "outputs": [
    {
     "name": "stderr",
     "output_type": "stream",
     "text": [
      "16:15:42 - cmdstanpy - INFO - Chain [1] start processing\n",
      "16:15:43 - cmdstanpy - INFO - Chain [1] done processing\n"
     ]
    }
   ],
   "source": [
    "# Forecasting with Prophet\n",
    "model = Prophet()\n",
    "model.fit(daily_sales)\n",
    "\n",
    "# Create future dataframe (next 60 days)\n",
    "future = model.make_future_dataframe(periods=60)\n",
    "forecast = model.predict(future)"
   ]
  },
  {
   "cell_type": "code",
   "execution_count": 5,
   "id": "1ddc1297",
   "metadata": {},
   "outputs": [],
   "source": [
    "# Plot forecast with Plotly\n",
    "fig = go.Figure()\n",
    "fig.add_trace(go.Scatter(x=forecast['ds'], y=forecast['yhat'], name='Forecast'))\n",
    "fig.add_trace(go.Scatter(x=daily_sales['ds'], y=daily_sales['y'], name='Actual'))\n",
    "fig.update_layout(title=\"Sales Forecast\", xaxis_title=\"Date\", yaxis_title=\"Revenue\")\n",
    "\n",
    "# Save plot as image\n",
    "plot_path = \"forecast_plot.png\"\n",
    "pio.write_image(fig, plot_path, format='png')"
   ]
  },
  {
   "cell_type": "code",
   "execution_count": 6,
   "id": "40ad19b1",
   "metadata": {},
   "outputs": [
    {
     "data": {
      "image/png": "[encoded data removed]",
      "text/plain": [
       "<Figure size 600x600 with 1 Axes>"
      ]
     },
     "metadata": {},
     "output_type": "display_data"
    }
   ],
   "source": [
    "import matplotlib.pyplot as plt\n",
    "\n",
    "# Dados dos top 3 produtos com maiores Forecast_Quantity\n",
    "labels = ['T-shirt Red M', 'Hoodie Black XL', 'Sneakers White 42']\n",
    "quantities = [1526.76, 1328.25, 1118.69]\n",
    "\n",
    "# Criar gráfico de pizza\n",
    "fig, ax = plt.subplots(figsize=(6, 6))\n",
    "colors = ['#FF9999', '#66B3FF', '#99FF99']\n",
    "ax.pie(quantities, labels=labels, autopct='%1.1f%%', startangle=140, colors=colors)\n",
    "ax.set_title('Top 3 Produtos com Maior Chance de Venda')\n",
    "\n",
    "# Salvar imagem\n",
    "plt.savefig('pizza_top3_produtos.png', bbox_inches='tight')\n",
    "plt.show()\n"
   ]
  },
  {
   "cell_type": "code",
   "execution_count": 7,
   "id": "0d9acc07",
   "metadata": {},
   "outputs": [
    {
     "name": "stderr",
     "output_type": "stream",
     "text": [
      "DEBUG\tTask(Task-3) cmdstanpy:command.py:do_command()- cmd: where.exe tbb.dll\n",
      "cwd: None\n",
      "DEBUG\tTask(Task-3) cmdstanpy:model.py:__init__()- TBB already found in load path\n",
      "INFO\tTask(Task-3) prophet:forecaster.py:parse_seasonality_args()- Disabling yearly seasonality. Run prophet with yearly_seasonality=True to override this.\n",
      "INFO\tTask(Task-3) prophet:forecaster.py:parse_seasonality_args()- Disabling daily seasonality. Run prophet with daily_seasonality=True to override this.\n",
      "DEBUG\tTask(Task-3) cmdstanpy:filesystem.py:_temp_single_json()- input tempfile: C:\\Users\\Work\\AppData\\Local\\Temp\\tmpzsdzc7w_\\zf5sl0x7.json\n",
      "DEBUG\tTask(Task-3) cmdstanpy:filesystem.py:_temp_single_json()- input tempfile: C:\\Users\\Work\\AppData\\Local\\Temp\\tmpzsdzc7w_\\86gq7t4v.json\n",
      "DEBUG\tTask(Task-3) cmdstanpy:model.py:_run_cmdstan()- idx 0\n",
      "DEBUG\tTask(Task-3) cmdstanpy:model.py:_run_cmdstan()- running CmdStan, num_threads: None\n",
      "DEBUG\tTask(Task-3) cmdstanpy:model.py:_run_cmdstan()- CmdStan args: ['D:\\\\User\\\\Desktop\\\\projects\\\\venv\\\\Lib\\\\site-packages\\\\prophet\\\\stan_model\\\\prophet_model.bin', 'random', 'seed=42192', 'data', 'file=C:\\\\Users\\\\Work\\\\AppData\\\\Local\\\\Temp\\\\tmpzsdzc7w_\\\\zf5sl0x7.json', 'init=C:\\\\Users\\\\Work\\\\AppData\\\\Local\\\\Temp\\\\tmpzsdzc7w_\\\\86gq7t4v.json', 'output', 'file=C:\\\\Users\\\\Work\\\\AppData\\\\Local\\\\Temp\\\\tmpzsdzc7w_\\\\prophet_modelvmm2u5ug\\\\prophet_model-20250802161634.csv', 'method=optimize', 'algorithm=newton', 'iter=10000']\n",
      "16:16:34 - cmdstanpy - INFO - Chain [1] start processing\n",
      "INFO\tTask(Task-3) cmdstanpy:model.py:_run_cmdstan()- Chain [1] start processing\n",
      "16:16:34 - cmdstanpy - INFO - Chain [1] done processing\n",
      "INFO\tTask(Task-3) cmdstanpy:model.py:_run_cmdstan()- Chain [1] done processing\n",
      "DEBUG\tTask(Task-3) cmdstanpy:command.py:do_command()- cmd: where.exe tbb.dll\n",
      "cwd: None\n",
      "DEBUG\tTask(Task-3) cmdstanpy:model.py:__init__()- TBB already found in load path\n",
      "INFO\tTask(Task-3) prophet:forecaster.py:parse_seasonality_args()- Disabling yearly seasonality. Run prophet with yearly_seasonality=True to override this.\n",
      "INFO\tTask(Task-3) prophet:forecaster.py:parse_seasonality_args()- Disabling daily seasonality. Run prophet with daily_seasonality=True to override this.\n",
      "DEBUG\tTask(Task-3) cmdstanpy:filesystem.py:_temp_single_json()- input tempfile: C:\\Users\\Work\\AppData\\Local\\Temp\\tmpzsdzc7w_\\kdrphibf.json\n",
      "DEBUG\tTask(Task-3) cmdstanpy:filesystem.py:_temp_single_json()- input tempfile: C:\\Users\\Work\\AppData\\Local\\Temp\\tmpzsdzc7w_\\bmab1op4.json\n",
      "DEBUG\tTask(Task-3) cmdstanpy:model.py:_run_cmdstan()- idx 0\n",
      "DEBUG\tTask(Task-3) cmdstanpy:model.py:_run_cmdstan()- running CmdStan, num_threads: None\n",
      "DEBUG\tTask(Task-3) cmdstanpy:model.py:_run_cmdstan()- CmdStan args: ['D:\\\\User\\\\Desktop\\\\projects\\\\venv\\\\Lib\\\\site-packages\\\\prophet\\\\stan_model\\\\prophet_model.bin', 'random', 'seed=65276', 'data', 'file=C:\\\\Users\\\\Work\\\\AppData\\\\Local\\\\Temp\\\\tmpzsdzc7w_\\\\kdrphibf.json', 'init=C:\\\\Users\\\\Work\\\\AppData\\\\Local\\\\Temp\\\\tmpzsdzc7w_\\\\bmab1op4.json', 'output', 'file=C:\\\\Users\\\\Work\\\\AppData\\\\Local\\\\Temp\\\\tmpzsdzc7w_\\\\prophet_model_2kbi1g3\\\\prophet_model-20250802161634.csv', 'method=optimize', 'algorithm=newton', 'iter=10000']\n",
      "16:16:34 - cmdstanpy - INFO - Chain [1] start processing\n",
      "INFO\tTask(Task-3) cmdstanpy:model.py:_run_cmdstan()- Chain [1] start processing\n",
      "16:16:35 - cmdstanpy - INFO - Chain [1] done processing\n",
      "INFO\tTask(Task-3) cmdstanpy:model.py:_run_cmdstan()- Chain [1] done processing\n",
      "DEBUG\tTask(Task-3) cmdstanpy:command.py:do_command()- cmd: where.exe tbb.dll\n",
      "cwd: None\n",
      "DEBUG\tTask(Task-3) cmdstanpy:model.py:__init__()- TBB already found in load path\n",
      "INFO\tTask(Task-3) prophet:forecaster.py:parse_seasonality_args()- Disabling yearly seasonality. Run prophet with yearly_seasonality=True to override this.\n",
      "INFO\tTask(Task-3) prophet:forecaster.py:parse_seasonality_args()- Disabling daily seasonality. Run prophet with daily_seasonality=True to override this.\n",
      "DEBUG\tTask(Task-3) cmdstanpy:filesystem.py:_temp_single_json()- input tempfile: C:\\Users\\Work\\AppData\\Local\\Temp\\tmpzsdzc7w_\\6w2zykd4.json\n",
      "DEBUG\tTask(Task-3) cmdstanpy:filesystem.py:_temp_single_json()- input tempfile: C:\\Users\\Work\\AppData\\Local\\Temp\\tmpzsdzc7w_\\zijvyy9_.json\n",
      "DEBUG\tTask(Task-3) cmdstanpy:model.py:_run_cmdstan()- idx 0\n",
      "DEBUG\tTask(Task-3) cmdstanpy:model.py:_run_cmdstan()- running CmdStan, num_threads: None\n",
      "DEBUG\tTask(Task-3) cmdstanpy:model.py:_run_cmdstan()- CmdStan args: ['D:\\\\User\\\\Desktop\\\\projects\\\\venv\\\\Lib\\\\site-packages\\\\prophet\\\\stan_model\\\\prophet_model.bin', 'random', 'seed=64074', 'data', 'file=C:\\\\Users\\\\Work\\\\AppData\\\\Local\\\\Temp\\\\tmpzsdzc7w_\\\\6w2zykd4.json', 'init=C:\\\\Users\\\\Work\\\\AppData\\\\Local\\\\Temp\\\\tmpzsdzc7w_\\\\zijvyy9_.json', 'output', 'file=C:\\\\Users\\\\Work\\\\AppData\\\\Local\\\\Temp\\\\tmpzsdzc7w_\\\\prophet_model_c3a3u59\\\\prophet_model-20250802161635.csv', 'method=optimize', 'algorithm=newton', 'iter=10000']\n",
      "16:16:35 - cmdstanpy - INFO - Chain [1] start processing\n",
      "INFO\tTask(Task-3) cmdstanpy:model.py:_run_cmdstan()- Chain [1] start processing\n",
      "16:16:35 - cmdstanpy - INFO - Chain [1] done processing\n",
      "INFO\tTask(Task-3) cmdstanpy:model.py:_run_cmdstan()- Chain [1] done processing\n",
      "DEBUG\tTask(Task-3) cmdstanpy:command.py:do_command()- cmd: where.exe tbb.dll\n",
      "cwd: None\n",
      "DEBUG\tTask(Task-3) cmdstanpy:model.py:__init__()- TBB already found in load path\n",
      "INFO\tTask(Task-3) prophet:forecaster.py:parse_seasonality_args()- Disabling yearly seasonality. Run prophet with yearly_seasonality=True to override this.\n",
      "INFO\tTask(Task-3) prophet:forecaster.py:parse_seasonality_args()- Disabling daily seasonality. Run prophet with daily_seasonality=True to override this.\n",
      "DEBUG\tTask(Task-3) cmdstanpy:filesystem.py:_temp_single_json()- input tempfile: C:\\Users\\Work\\AppData\\Local\\Temp\\tmpzsdzc7w_\\uwb3cgh7.json\n",
      "DEBUG\tTask(Task-3) cmdstanpy:filesystem.py:_temp_single_json()- input tempfile: C:\\Users\\Work\\AppData\\Local\\Temp\\tmpzsdzc7w_\\pxf13bte.json\n",
      "DEBUG\tTask(Task-3) cmdstanpy:model.py:_run_cmdstan()- idx 0\n",
      "DEBUG\tTask(Task-3) cmdstanpy:model.py:_run_cmdstan()- running CmdStan, num_threads: None\n",
      "DEBUG\tTask(Task-3) cmdstanpy:model.py:_run_cmdstan()- CmdStan args: ['D:\\\\User\\\\Desktop\\\\projects\\\\venv\\\\Lib\\\\site-packages\\\\prophet\\\\stan_model\\\\prophet_model.bin', 'random', 'seed=65376', 'data', 'file=C:\\\\Users\\\\Work\\\\AppData\\\\Local\\\\Temp\\\\tmpzsdzc7w_\\\\uwb3cgh7.json', 'init=C:\\\\Users\\\\Work\\\\AppData\\\\Local\\\\Temp\\\\tmpzsdzc7w_\\\\pxf13bte.json', 'output', 'file=C:\\\\Users\\\\Work\\\\AppData\\\\Local\\\\Temp\\\\tmpzsdzc7w_\\\\prophet_modeligx2rxwl\\\\prophet_model-20250802161635.csv', 'method=optimize', 'algorithm=newton', 'iter=10000']\n",
      "16:16:35 - cmdstanpy - INFO - Chain [1] start processing\n",
      "INFO\tTask(Task-3) cmdstanpy:model.py:_run_cmdstan()- Chain [1] start processing\n",
      "16:16:35 - cmdstanpy - INFO - Chain [1] done processing\n",
      "INFO\tTask(Task-3) cmdstanpy:model.py:_run_cmdstan()- Chain [1] done processing\n",
      "DEBUG\tTask(Task-3) cmdstanpy:command.py:do_command()- cmd: where.exe tbb.dll\n",
      "cwd: None\n",
      "DEBUG\tTask(Task-3) cmdstanpy:model.py:__init__()- TBB already found in load path\n",
      "INFO\tTask(Task-3) prophet:forecaster.py:parse_seasonality_args()- Disabling yearly seasonality. Run prophet with yearly_seasonality=True to override this.\n",
      "INFO\tTask(Task-3) prophet:forecaster.py:parse_seasonality_args()- Disabling daily seasonality. Run prophet with daily_seasonality=True to override this.\n",
      "DEBUG\tTask(Task-3) cmdstanpy:filesystem.py:_temp_single_json()- input tempfile: C:\\Users\\Work\\AppData\\Local\\Temp\\tmpzsdzc7w_\\3dm_w3vb.json\n",
      "DEBUG\tTask(Task-3) cmdstanpy:filesystem.py:_temp_single_json()- input tempfile: C:\\Users\\Work\\AppData\\Local\\Temp\\tmpzsdzc7w_\\2p9i4l63.json\n",
      "DEBUG\tTask(Task-3) cmdstanpy:model.py:_run_cmdstan()- idx 0\n",
      "DEBUG\tTask(Task-3) cmdstanpy:model.py:_run_cmdstan()- running CmdStan, num_threads: None\n",
      "DEBUG\tTask(Task-3) cmdstanpy:model.py:_run_cmdstan()- CmdStan args: ['D:\\\\User\\\\Desktop\\\\projects\\\\venv\\\\Lib\\\\site-packages\\\\prophet\\\\stan_model\\\\prophet_model.bin', 'random', 'seed=58432', 'data', 'file=C:\\\\Users\\\\Work\\\\AppData\\\\Local\\\\Temp\\\\tmpzsdzc7w_\\\\3dm_w3vb.json', 'init=C:\\\\Users\\\\Work\\\\AppData\\\\Local\\\\Temp\\\\tmpzsdzc7w_\\\\2p9i4l63.json', 'output', 'file=C:\\\\Users\\\\Work\\\\AppData\\\\Local\\\\Temp\\\\tmpzsdzc7w_\\\\prophet_modeln19p6_me\\\\prophet_model-20250802161635.csv', 'method=optimize', 'algorithm=newton', 'iter=10000']\n",
      "16:16:35 - cmdstanpy - INFO - Chain [1] start processing\n",
      "INFO\tTask(Task-3) cmdstanpy:model.py:_run_cmdstan()- Chain [1] start processing\n",
      "16:16:36 - cmdstanpy - INFO - Chain [1] done processing\n",
      "INFO\tTask(Task-3) cmdstanpy:model.py:_run_cmdstan()- Chain [1] done processing\n",
      "DEBUG\tTask(Task-3) cmdstanpy:command.py:do_command()- cmd: where.exe tbb.dll\n",
      "cwd: None\n",
      "DEBUG\tTask(Task-3) cmdstanpy:model.py:__init__()- TBB already found in load path\n",
      "INFO\tTask(Task-3) prophet:forecaster.py:parse_seasonality_args()- Disabling yearly seasonality. Run prophet with yearly_seasonality=True to override this.\n",
      "INFO\tTask(Task-3) prophet:forecaster.py:parse_seasonality_args()- Disabling daily seasonality. Run prophet with daily_seasonality=True to override this.\n",
      "DEBUG\tTask(Task-3) cmdstanpy:filesystem.py:_temp_single_json()- input tempfile: C:\\Users\\Work\\AppData\\Local\\Temp\\tmpzsdzc7w_\\7qw5g2go.json\n",
      "DEBUG\tTask(Task-3) cmdstanpy:filesystem.py:_temp_single_json()- input tempfile: C:\\Users\\Work\\AppData\\Local\\Temp\\tmpzsdzc7w_\\n93xqnxf.json\n",
      "DEBUG\tTask(Task-3) cmdstanpy:model.py:_run_cmdstan()- idx 0\n",
      "DEBUG\tTask(Task-3) cmdstanpy:model.py:_run_cmdstan()- running CmdStan, num_threads: None\n",
      "DEBUG\tTask(Task-3) cmdstanpy:model.py:_run_cmdstan()- CmdStan args: ['D:\\\\User\\\\Desktop\\\\projects\\\\venv\\\\Lib\\\\site-packages\\\\prophet\\\\stan_model\\\\prophet_model.bin', 'random', 'seed=27782', 'data', 'file=C:\\\\Users\\\\Work\\\\AppData\\\\Local\\\\Temp\\\\tmpzsdzc7w_\\\\7qw5g2go.json', 'init=C:\\\\Users\\\\Work\\\\AppData\\\\Local\\\\Temp\\\\tmpzsdzc7w_\\\\n93xqnxf.json', 'output', 'file=C:\\\\Users\\\\Work\\\\AppData\\\\Local\\\\Temp\\\\tmpzsdzc7w_\\\\prophet_modelclr_doea\\\\prophet_model-20250802161636.csv', 'method=optimize', 'algorithm=newton', 'iter=10000']\n",
      "16:16:36 - cmdstanpy - INFO - Chain [1] start processing\n",
      "INFO\tTask(Task-3) cmdstanpy:model.py:_run_cmdstan()- Chain [1] start processing\n",
      "16:16:36 - cmdstanpy - INFO - Chain [1] done processing\n",
      "INFO\tTask(Task-3) cmdstanpy:model.py:_run_cmdstan()- Chain [1] done processing\n"
     ]
    }
   ],
   "source": [
    "# Criar dataframe com todas as previsões\n",
    "forecast_df = pd.DataFrame()\n",
    "\n",
    "for product in df['Product'].unique():\n",
    "    product_data = df[df['Product'] == product]\n",
    "    product_data = product_data.groupby('Date').agg({'Quantity': 'sum'}).reset_index()\n",
    "    product_data.columns = ['ds', 'y']\n",
    "\n",
    "    model = Prophet()\n",
    "    model.fit(product_data)\n",
    "\n",
    "    future = model.make_future_dataframe(periods=30)\n",
    "    forecast = model.predict(future)\n",
    "\n",
    "    forecast['Product'] = product\n",
    "    forecast_df = pd.concat([forecast_df, forecast[['ds', 'yhat', 'yhat_lower', 'yhat_upper', 'Product']]])\n"
   ]
  },
  {
   "cell_type": "code",
   "execution_count": 8,
   "id": "eb6f4437",
   "metadata": {},
   "outputs": [],
   "source": [
    "# Vendas atuais (históricas) por produto\n",
    "current_sales = df.groupby('Product')['Quantity'].sum().to_dict()"
   ]
  },
  {
   "cell_type": "code",
   "execution_count": 9,
   "id": "01c3902a",
   "metadata": {},
   "outputs": [],
   "source": [
    "# Resumo por produto\n",
    "forecast_summary = forecast_df[forecast_df['ds'] > df['Date'].max()]  # só as datas futuras\n",
    "product_summary = forecast_summary.groupby('Product')['yhat'].sum().reset_index()\n",
    "product_summary.columns = ['Product', 'Forecast_Quantity']\n",
    "\n",
    "# Adiciona variação percentual\n",
    "product_summary['Current_Sales'] = product_summary['Product'].map(current_sales)\n",
    "product_summary['Percent_Change'] = ((product_summary['Forecast_Quantity'] - product_summary['Current_Sales']) / product_summary['Current_Sales']) * 100\n",
    "product_summary['Percent_Change'] = product_summary['Percent_Change'].round(1)\n",
    "\n",
    "# Salvar CSV\n",
    "product_summary.to_csv(\"product_forecast_summary.csv\", index=False)"
   ]
  },
  {
   "cell_type": "code",
   "execution_count": 10,
   "id": "657a45ee",
   "metadata": {},
   "outputs": [],
   "source": [
    "# Load product forecast summary table\n",
    "summary_df = pd.read_csv(\"product_forecast_summary.csv\")"
   ]
  },
  {
   "cell_type": "code",
   "execution_count": 12,
   "id": "8ac7bcc6",
   "metadata": {},
   "outputs": [
    {
     "name": "stdout",
     "output_type": "stream",
     "text": [
      "✅ Professional-looking PDF generated: sales_forecast_report.pdf\n"
     ]
    }
   ],
   "source": [
    "from fpdf import FPDF\n",
    "from datetime import datetime\n",
    "import os\n",
    "\n",
    "class PDF(FPDF):\n",
    "    def header(self):\n",
    "        self.set_font('Arial', 'B', 18)\n",
    "        self.set_text_color(64, 0, 128) #####\n",
    "        self.cell(0, 15, 'SALES FORECAST REPORT - FASHION STORE', 0, 1, 'C')\n",
    "        \n",
    "        self.set_draw_color(64, 0, 128) #####\n",
    "        self.set_line_width(0.6)\n",
    "        self.line(15, self.get_y(), 195, self.get_y())\n",
    "        self.ln(10)\n",
    "\n",
    "    def footer(self):\n",
    "        self.set_y(-15)\n",
    "        self.set_font('Arial', 'I', 8)\n",
    "        self.set_text_color(128, 128, 128)\n",
    "        generated_at = datetime.now().strftime(\"%d/%m/%Y at %H:%M\")\n",
    "        self.cell(0, 10, f'Generated on {generated_at}', 0, 0, 'L')\n",
    "        self.cell(0, 10, f'Page {self.page_no()}', 0, 0, 'R')\n",
    "\n",
    "    def chapter_title(self, title):\n",
    "        self.set_font('Arial', 'B', 14)\n",
    "        self.set_text_color(38, 0, 77) #####\n",
    "        self.set_fill_color(236, 240, 241)\n",
    "        self.cell(0, 10, title, 0, 1, 'L', 1)\n",
    "        self.ln(4)\n",
    "\n",
    "    def add_info_box(self, label, value):\n",
    "        self.set_font('Arial', 'B', 11)\n",
    "        self.set_text_color(38, 0, 77) #####\n",
    "        self.cell(70, 8, label + \":\", 0, 0, \"L\")\n",
    "        self.set_font(\"Arial\", \"\", 11)\n",
    "        self.set_text_color(0, 0, 0)\n",
    "        self.cell(0, 8, str(value), 0, 1, \"L\")\n",
    "\n",
    "    def create_table_header(self, headers, widths):\n",
    "        self.set_font('Arial', 'B', 12)\n",
    "        self.set_fill_color(64, 0, 128) #####\n",
    "        self.set_text_color(255, 255, 255)\n",
    "        self.set_draw_color(255, 255, 255)\n",
    "        for i, header in enumerate(headers):\n",
    "            self.cell(widths[i], 11, header, 1, 0, 'C', 1)\n",
    "        self.ln()\n",
    "\n",
    "    def create_table_row(self, data, widths, fill=False, percent_change=None):\n",
    "        self.set_font('Arial', '', 11)\n",
    "        self.set_text_color(0, 0, 0)\n",
    "        self.set_fill_color(248, 249, 250) if fill else self.set_fill_color(255, 255, 255)\n",
    "        self.set_draw_color(220, 220, 220)\n",
    "        \n",
    "        self.cell(widths[0], 9, data[0], 1, 0, 'L', 1)\n",
    "        self.cell(widths[1], 9, data[1], 1, 0, 'C', 1)\n",
    "        \n",
    "        if percent_change is not None:\n",
    "            if percent_change > 0:\n",
    "                self.set_text_color(0, 150, 0)\n",
    "            elif percent_change < 0:\n",
    "                self.set_text_color(200, 0, 0)\n",
    "            else:\n",
    "                self.set_text_color(0, 0, 0)\n",
    "        self.cell(widths[2], 9, data[2], 1, 1, 'C', 1)\n",
    "        self.set_text_color(0, 0, 0)\n",
    "\n",
    "\n",
    "def generate_pdf(summary_df, forecast_days=60, output_filename=\"sales_forecast_report.pdf\"):\n",
    "    pdf = PDF()\n",
    "    pdf.set_auto_page_break(auto=True, margin=15)\n",
    "    pdf.add_page()\n",
    "\n",
    "    # GENERAL INFO\n",
    "    pdf.chapter_title(\"GENERAL INFORMATION\")\n",
    "    pdf.add_info_box(\"Generation Date\", datetime.now().strftime(\"%d/%m/%Y\"))\n",
    "    pdf.add_info_box(\"Forecast Period\", f\"{forecast_days} days\")\n",
    "    pdf.add_info_box(\"Total Products\", len(summary_df))\n",
    "\n",
    "    # Total Forecast Sales\n",
    "    total_sales = summary_df[\"Forecast_Quantity\"].sum()\n",
    "    pdf.add_info_box(\"Total Forecast Sales\", f\"{total_sales:.2f} units\")\n",
    "\n",
    "    pdf.ln(10)\n",
    "\n",
    "    # Observations\n",
    "    pdf.set_font(\"Arial\", \"\", 12)\n",
    "    observations = (\n",
    "        f\"This report provides a sales forecast for the next {forecast_days} days based on historical data.\\n\"\n",
    "        \"Use this information to plan marketing campaigns, optimize inventory levels, and make data-driven financial decisions.\"\n",
    "    )\n",
    "    pdf.multi_cell(0, 9, observations)\n",
    "    pdf.ln(8)\n",
    "\n",
    "    # Graph\n",
    "    if os.path.isfile(\"forecast_plot.png\"):\n",
    "        pdf.image(\"forecast_plot.png\", w=180)\n",
    "        pdf.ln(10)\n",
    "\n",
    "    if os.path.isfile(\"pizza_top3_produtos.png\"):\n",
    "        pdf.image(\"pizza_top3_produtos.png\", w=180)\n",
    "        pdf.ln(10)\n",
    "\n",
    "    # PRODUCT FORECAST TABLE\n",
    "    pdf.add_page() \n",
    "    pdf.chapter_title(\"PRODUCT FORECAST SUMMARY\")\n",
    "    headers = [\"Product\", \"Forecast Quantity\", \"% Change\"]\n",
    "    widths = [90, 45, 45]\n",
    "    pdf.create_table_header(headers, widths)\n",
    "\n",
    "    for idx, row in summary_df.iterrows():\n",
    "        product = str(row['Product'])[:40]\n",
    "        forecast_qty = f\"{row['Forecast_Quantity']:.0f}\"\n",
    "        percent = row['Percent_Change']\n",
    "        percent_str = f\"{percent:.1f}%\"\n",
    "        fill = (idx % 2 == 0)\n",
    "        pdf.create_table_row([product, forecast_qty, percent_str], widths, fill, percent_change=percent)\n",
    "\n",
    "    # STATISTICAL SUMMARY PAGE\n",
    "    pdf.add_page()\n",
    "    pdf.chapter_title(\"STATISTICAL SUMMARY\")\n",
    "\n",
    "    # Calculations\n",
    "    values = summary_df[\"Forecast_Quantity\"]\n",
    "    avg = values.mean()\n",
    "    max_val = values.max()\n",
    "    min_val = values.min()\n",
    "    best_product = summary_df.loc[values.idxmax()]['Product']\n",
    "\n",
    "    pdf.add_info_box(\"Average Sales by Product\", f\"{avg:.2f} units\")\n",
    "    pdf.add_info_box(\"Highest Individual Forecast\", f\"{max_val:.2f} units\")\n",
    "    pdf.add_info_box(\"Lowest Individual Forecast\", f\"{min_val:.2f} units\")\n",
    "    pdf.add_info_box(\"Product with Best Performance\", str(best_product))\n",
    "\n",
    "    pdf.ln(10)\n",
    "    pdf.set_font('Arial', 'I', 9)\n",
    "    pdf.set_text_color(128, 128, 128)\n",
    "    pdf.multi_cell(0, 5,\n",
    "        \"This report was automatically generated based on predictive analysis.\\n\"\n",
    "        \"Values are estimates and may vary according to historical sales data.\"\n",
    "    )\n",
    "\n",
    "    pdf.output(output_filename)\n",
    "    print(f\"✅ Professional-looking PDF generated: {output_filename}\")\n",
    "\n",
    "# Exemplo de uso:\n",
    "generate_pdf(summary_df)\n"
   ]
  },
  {
   "cell_type": "code",
   "execution_count": 26,
   "id": "60f05649",
   "metadata": {},
   "outputs": [
    {
     "name": "stdout",
     "output_type": "stream",
     "text": [
      "Note: you may need to restart the kernel to use updated packages.\n"
     ]
    }
   ],
   "source": [
    "%pip list --format=freeze > requirements.txt"
   ]
  }
 ],
 "metadata": {
  "kernelspec": {
   "display_name": "venv (3.13.2)",
   "language": "python",
   "name": "python3"
  },
  "language_info": {
   "codemirror_mode": {
    "name": "ipython",
    "version": 3
   },
   "file_extension": ".py",
   "mimetype": "text/x-python",
   "name": "python",
   "nbconvert_exporter": "python",
   "pygments_lexer": "ipython3",
   "version": "3.13.2"
  }
 },
 "nbformat": 4,
 "nbformat_minor": 5
}
